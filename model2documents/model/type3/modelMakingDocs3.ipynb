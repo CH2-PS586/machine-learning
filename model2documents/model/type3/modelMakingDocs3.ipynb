{
  "nbformat": 4,
  "nbformat_minor": 0,
  "metadata": {
    "colab": {
      "provenance": []
    },
    "kernelspec": {
      "name": "python3",
      "display_name": "Python 3"
    },
    "language_info": {
      "name": "python"
    }
  },
  "cells": [
    {
      "cell_type": "code",
      "source": [
        "from google.colab import drive\n",
        "drive.mount('/content/drive')"
      ],
      "metadata": {
        "id": "h0Fx9nKkJW0n",
        "colab": {
          "base_uri": "https://localhost:8080/"
        },
        "outputId": "053c1733-5956-48bd-8354-1e4b7ebcb374"
      },
      "execution_count": 1,
      "outputs": [
        {
          "output_type": "stream",
          "name": "stdout",
          "text": [
            "Drive already mounted at /content/drive; to attempt to forcibly remount, call drive.mount(\"/content/drive\", force_remount=True).\n"
          ]
        }
      ]
    },
    {
      "cell_type": "code",
      "source": [
        "import io\n",
        "import csv\n",
        "import tensorflow as tf\n",
        "import numpy as np\n",
        "from tensorflow.keras.preprocessing.text import Tokenizer\n",
        "from tensorflow.keras.preprocessing.sequence import pad_sequences\n",
        "import matplotlib.pyplot as plt\n",
        "import pandas as pd\n",
        "from sklearn.model_selection import train_test_split\n",
        "from sklearn.preprocessing import LabelBinarizer"
      ],
      "metadata": {
        "id": "9ZVd3xLqJLCi"
      },
      "execution_count": 2,
      "outputs": []
    },
    {
      "cell_type": "code",
      "source": [
        "vocab_size = 1000\n",
        "embedding_dim = 16\n",
        "max_length = 50\n",
        "trunc_type = 'post'\n",
        "padding_type = 'post'\n",
        "oov_tok = \"<OOV>\"\n",
        "training_portion = .8"
      ],
      "metadata": {
        "id": "k9TZaV0mJKAi"
      },
      "execution_count": 3,
      "outputs": []
    },
    {
      "cell_type": "code",
      "source": [
        "dataset = pd.read_csv('/content/drive/MyDrive/Bangkit/Model/dataset/datasetv3.csv', skiprows=[0])"
      ],
      "metadata": {
        "id": "hW6-Nig1Mpy-"
      },
      "execution_count": 4,
      "outputs": []
    },
    {
      "cell_type": "code",
      "source": [
        "texts = []\n",
        "labels = []"
      ],
      "metadata": {
        "id": "ofKqhQTTTZlL"
      },
      "execution_count": 5,
      "outputs": []
    },
    {
      "cell_type": "code",
      "source": [
        "for index, row in dataset.iterrows():\n",
        "  if index == 0:\n",
        "    continue\n",
        "  texts.append(row[0])\n",
        "  labels.append(row[1])"
      ],
      "metadata": {
        "id": "kbpySky8MyhX"
      },
      "execution_count": 6,
      "outputs": []
    },
    {
      "cell_type": "code",
      "source": [
        "# Tokenize the text\n",
        "tokenizer = Tokenizer(num_words=vocab_size, oov_token=\"<OOV>\")\n",
        "tokenizer.fit_on_texts(texts)\n",
        "word_index = tokenizer.word_index\n",
        "\n",
        "# Convert text to sequences\n",
        "sequences = tokenizer.texts_to_sequences(texts)\n",
        "\n",
        "# Pad sequences to make them of the same length\n",
        "padded_sequences = pad_sequences(sequences,  maxlen=max_length, padding=padding_type, truncating=trunc_type)\n",
        "\n",
        "label_tokenizer = Tokenizer()\n",
        "label_tokenizer.fit_on_texts(labels)\n",
        "labels_fix = np.array(labels)\n",
        "\n",
        "label_binarizer = LabelBinarizer()\n",
        "labels_fix = label_binarizer.fit_transform(labels_fix)"
      ],
      "metadata": {
        "id": "Md-U2HoZNRmT"
      },
      "execution_count": 7,
      "outputs": []
    },
    {
      "cell_type": "code",
      "source": [
        "print(padded_sequences[:5], np.unique(labels_fix))"
      ],
      "metadata": {
        "colab": {
          "base_uri": "https://localhost:8080/"
        },
        "id": "BrQoa0dTZfdB",
        "outputId": "3174558c-f5a9-460f-f106-fd9884f931eb"
      },
      "execution_count": 8,
      "outputs": [
        {
          "output_type": "stream",
          "name": "stdout",
          "text": [
            "[[ 60  31 478 669   1 479 670  27  20  23  30  37  28   8  19   8  19  30\n",
            "   37  28 670  27  20  23   1   1  30  37  28 194 611   1 225 102 984   1\n",
            "  114 250 114 250 107  38   0   0   0   0   0   0   0   0]\n",
            " [  1 671  92 478 307   1 479  31 480 612   1   1   1   1   1   1  67 985\n",
            "    1   1   1   1 986 308 480   1   1   1 986 308   0   0   0   0   0   0\n",
            "    0   0   0   0   0   0   0   0   0   0   0   0   0   0]\n",
            " [  1 671  92 478 307   1 479  31 612   1   1  67 985 986 308   0   0   0\n",
            "    0   0   0   0   0   0   0   0   0   0   0   0   0   0   0   0   0   0\n",
            "    0   0   0   0   0   0   0   0   0   0   0   0   0   0]\n",
            " [987   1   4  31 478 669   1 479 115  31 478 672   1 262   1 160  14  62\n",
            "  403 161   1 136 162 195 672 161 309 749   1 673 136 162   0   0   0   0\n",
            "    0   0   0   0   0   0   0   0   0   0   0   0   0   0]\n",
            " [987   1   4  31 478 669   1 479 115  31 478 672   1 262   1 160  14  62\n",
            "  403 161   1 136 162 195 672 161 309 749   1 673 136 162   0   0   0   0\n",
            "    0   0   0   0   0   0   0   0   0   0   0   0   0   0]] [0 1]\n"
          ]
        }
      ]
    },
    {
      "cell_type": "code",
      "source": [
        "X_train, X_test, y_train, y_test = train_test_split(padded_sequences, labels_fix, test_size=0.2, random_state=42)"
      ],
      "metadata": {
        "id": "yc1kAVIwUJzJ"
      },
      "execution_count": 9,
      "outputs": []
    },
    {
      "cell_type": "code",
      "source": [
        "def create_model(num_words, embedding_dim, maxlen):\n",
        "    \"\"\"\n",
        "    Creates a text classifier model\n",
        "\n",
        "    Args:\n",
        "        num_words (int): size of the vocabulary for the Embedding layer input\n",
        "        embedding_dim (int): dimensionality of the Embedding layer output\n",
        "        maxlen (int): length of the input sequences\n",
        "\n",
        "    Returns:\n",
        "        model (tf.keras Model): the text classifier model\n",
        "    \"\"\"\n",
        "\n",
        "    model = tf.keras.Sequential([\n",
        "        tf.keras.layers.Embedding(vocab_size, embedding_dim, input_length=maxlen),\n",
        "        tf.keras.layers.GlobalAveragePooling1D(),\n",
        "        tf.keras.layers.Dense(35, activation='relu'),\n",
        "        tf.keras.layers.Dense(1, activation='sigmoid')\n",
        "    ])\n",
        "\n",
        "    model.compile(loss='binary_crossentropy',\n",
        "                  optimizer='adam',\n",
        "                  metrics=['accuracy'])\n",
        "\n",
        "    return model"
      ],
      "metadata": {
        "id": "NxKjtnX-OwrL"
      },
      "execution_count": 10,
      "outputs": []
    },
    {
      "cell_type": "code",
      "source": [
        "model = create_model(vocab_size, embedding_dim, max_length)\n",
        "\n",
        "history = model.fit(X_train, y_train, epochs=30, validation_data=(X_test, y_test))"
      ],
      "metadata": {
        "colab": {
          "base_uri": "https://localhost:8080/"
        },
        "id": "LDJrtxTCOznY",
        "outputId": "c29cb771-0a34-405e-9e31-a18c8f7bb047"
      },
      "execution_count": 11,
      "outputs": [
        {
          "output_type": "stream",
          "name": "stdout",
          "text": [
            "Epoch 1/30\n",
            "12/12 [==============================] - 1s 22ms/step - loss: 0.6860 - accuracy: 0.7225 - val_loss: 0.6696 - val_accuracy: 0.8352\n",
            "Epoch 2/30\n",
            "12/12 [==============================] - 0s 5ms/step - loss: 0.6675 - accuracy: 0.7473 - val_loss: 0.6383 - val_accuracy: 0.8352\n",
            "Epoch 3/30\n",
            "12/12 [==============================] - 0s 5ms/step - loss: 0.6442 - accuracy: 0.7473 - val_loss: 0.6049 - val_accuracy: 0.8352\n",
            "Epoch 4/30\n",
            "12/12 [==============================] - 0s 6ms/step - loss: 0.6196 - accuracy: 0.7473 - val_loss: 0.5698 - val_accuracy: 0.8352\n",
            "Epoch 5/30\n",
            "12/12 [==============================] - 0s 5ms/step - loss: 0.5962 - accuracy: 0.7473 - val_loss: 0.5359 - val_accuracy: 0.8352\n",
            "Epoch 6/30\n",
            "12/12 [==============================] - 0s 6ms/step - loss: 0.5782 - accuracy: 0.7473 - val_loss: 0.5042 - val_accuracy: 0.8352\n",
            "Epoch 7/30\n",
            "12/12 [==============================] - 0s 5ms/step - loss: 0.5595 - accuracy: 0.7473 - val_loss: 0.4853 - val_accuracy: 0.8352\n",
            "Epoch 8/30\n",
            "12/12 [==============================] - 0s 6ms/step - loss: 0.5441 - accuracy: 0.7473 - val_loss: 0.4673 - val_accuracy: 0.8352\n",
            "Epoch 9/30\n",
            "12/12 [==============================] - 0s 5ms/step - loss: 0.5271 - accuracy: 0.7473 - val_loss: 0.4528 - val_accuracy: 0.8352\n",
            "Epoch 10/30\n",
            "12/12 [==============================] - 0s 6ms/step - loss: 0.5085 - accuracy: 0.7473 - val_loss: 0.4367 - val_accuracy: 0.8352\n",
            "Epoch 11/30\n",
            "12/12 [==============================] - 0s 5ms/step - loss: 0.4881 - accuracy: 0.7473 - val_loss: 0.4242 - val_accuracy: 0.8352\n",
            "Epoch 12/30\n",
            "12/12 [==============================] - 0s 6ms/step - loss: 0.4643 - accuracy: 0.7473 - val_loss: 0.4128 - val_accuracy: 0.8352\n",
            "Epoch 13/30\n",
            "12/12 [==============================] - 0s 7ms/step - loss: 0.4401 - accuracy: 0.7473 - val_loss: 0.4019 - val_accuracy: 0.8352\n",
            "Epoch 14/30\n",
            "12/12 [==============================] - 0s 6ms/step - loss: 0.4141 - accuracy: 0.7473 - val_loss: 0.3858 - val_accuracy: 0.8352\n",
            "Epoch 15/30\n",
            "12/12 [==============================] - 0s 6ms/step - loss: 0.3901 - accuracy: 0.7692 - val_loss: 0.3689 - val_accuracy: 0.8352\n",
            "Epoch 16/30\n",
            "12/12 [==============================] - 0s 5ms/step - loss: 0.3676 - accuracy: 0.8242 - val_loss: 0.3572 - val_accuracy: 0.8571\n",
            "Epoch 17/30\n",
            "12/12 [==============================] - 0s 6ms/step - loss: 0.3465 - accuracy: 0.8654 - val_loss: 0.3439 - val_accuracy: 0.8681\n",
            "Epoch 18/30\n",
            "12/12 [==============================] - 0s 7ms/step - loss: 0.3271 - accuracy: 0.8819 - val_loss: 0.3338 - val_accuracy: 0.8791\n",
            "Epoch 19/30\n",
            "12/12 [==============================] - 0s 5ms/step - loss: 0.3080 - accuracy: 0.9038 - val_loss: 0.3264 - val_accuracy: 0.8791\n",
            "Epoch 20/30\n",
            "12/12 [==============================] - 0s 6ms/step - loss: 0.2900 - accuracy: 0.9203 - val_loss: 0.3178 - val_accuracy: 0.8791\n",
            "Epoch 21/30\n",
            "12/12 [==============================] - 0s 5ms/step - loss: 0.2723 - accuracy: 0.9203 - val_loss: 0.3117 - val_accuracy: 0.8901\n",
            "Epoch 22/30\n",
            "12/12 [==============================] - 0s 5ms/step - loss: 0.2551 - accuracy: 0.9396 - val_loss: 0.3052 - val_accuracy: 0.8901\n",
            "Epoch 23/30\n",
            "12/12 [==============================] - 0s 5ms/step - loss: 0.2383 - accuracy: 0.9505 - val_loss: 0.3027 - val_accuracy: 0.8901\n",
            "Epoch 24/30\n",
            "12/12 [==============================] - 0s 7ms/step - loss: 0.2227 - accuracy: 0.9533 - val_loss: 0.2969 - val_accuracy: 0.8901\n",
            "Epoch 25/30\n",
            "12/12 [==============================] - 0s 6ms/step - loss: 0.2065 - accuracy: 0.9560 - val_loss: 0.2948 - val_accuracy: 0.8791\n",
            "Epoch 26/30\n",
            "12/12 [==============================] - 0s 5ms/step - loss: 0.1924 - accuracy: 0.9643 - val_loss: 0.2899 - val_accuracy: 0.8791\n",
            "Epoch 27/30\n",
            "12/12 [==============================] - 0s 6ms/step - loss: 0.1790 - accuracy: 0.9643 - val_loss: 0.2876 - val_accuracy: 0.8791\n",
            "Epoch 28/30\n",
            "12/12 [==============================] - 0s 5ms/step - loss: 0.1663 - accuracy: 0.9698 - val_loss: 0.2858 - val_accuracy: 0.8791\n",
            "Epoch 29/30\n",
            "12/12 [==============================] - 0s 6ms/step - loss: 0.1544 - accuracy: 0.9725 - val_loss: 0.2843 - val_accuracy: 0.8901\n",
            "Epoch 30/30\n",
            "12/12 [==============================] - 0s 5ms/step - loss: 0.1435 - accuracy: 0.9780 - val_loss: 0.2824 - val_accuracy: 0.8901\n"
          ]
        }
      ]
    },
    {
      "cell_type": "code",
      "source": [
        "def plot_graphs(history, metric):\n",
        "    plt.plot(history.history[metric])\n",
        "    plt.plot(history.history[f'val_{metric}'])\n",
        "    plt.xlabel(\"Epochs\")\n",
        "    plt.ylabel(metric)\n",
        "    plt.legend([metric, f'val_{metric}'])\n",
        "    plt.show()\n",
        "\n",
        "plot_graphs(history, \"accuracy\")\n",
        "plot_graphs(history, \"loss\")"
      ],
      "metadata": {
        "colab": {
          "base_uri": "https://localhost:8080/",
          "height": 881
        },
        "id": "c_0vWwVGO6LN",
        "outputId": "90594480-f3cd-47db-da94-97a971d374a1"
      },
      "execution_count": 12,
      "outputs": [
        {
          "output_type": "display_data",
          "data": {
            "text/plain": [
              "<Figure size 640x480 with 1 Axes>"
            ],
            "image/png": "[encoded data removed]"
          },
          "metadata": {}
        },
        {
          "output_type": "display_data",
          "data": {
            "text/plain": [
              "<Figure size 640x480 with 1 Axes>"
            ],
            "image/png": "[encoded data removed]"
          },
          "metadata": {}
        }
      ]
    },
    {
      "cell_type": "code",
      "source": [
        "model.save(\"/content/drive/MyDrive/Bangkit/Model/model/type3/modeltype3documents.h5\")"
      ],
      "metadata": {
        "colab": {
          "base_uri": "https://localhost:8080/"
        },
        "id": "xj3VJnIiPAhP",
        "outputId": "c097a0ab-779b-4184-9b58-68d02b9461c7"
      },
      "execution_count": 13,
      "outputs": [
        {
          "output_type": "stream",
          "name": "stderr",
          "text": [
            "/usr/local/lib/python3.10/dist-packages/keras/src/engine/training.py:3103: UserWarning: You are saving your model as an HDF5 file via `model.save()`. This file format is considered legacy. We recommend using instead the native Keras format, e.g. `model.save('my_model.keras')`.\n",
            "  saving_api.save_model(\n"
          ]
        }
      ]
    },
    {
      "cell_type": "code",
      "source": [
        "tokenizer_json = tokenizer.to_json()\n",
        "with open(\"/content/drive/MyDrive/Bangkit/Model/model/type3/tokenizerv3.json\", \"w\") as json_file:\n",
        "    json_file.write(tokenizer_json)"
      ],
      "metadata": {
        "id": "lfH94yfXi_KB"
      },
      "execution_count": 17,
      "outputs": []
    },
    {
      "cell_type": "markdown",
      "source": [
        "## Making Predictions"
      ],
      "metadata": {
        "id": "p2FGloMBcHzu"
      }
    },
    {
      "cell_type": "code",
      "source": [
        "import tensorflow as tf\n",
        "model = tf.keras.models.load_model(\"/content/drive/MyDrive/Bangkit/Model/model/type3/modeltype3documents.h5\")"
      ],
      "metadata": {
        "id": "bsVcDux4e7f-"
      },
      "execution_count": 15,
      "outputs": []
    },
    {
      "cell_type": "code",
      "source": [
        "pip install textract"
      ],
      "metadata": {
        "colab": {
          "base_uri": "https://localhost:8080/",
          "height": 1000
        },
        "id": "3ZPOvnPSlMHI",
        "outputId": "fc13fe2c-18dd-479d-e74d-c14629d5f84a"
      },
      "execution_count": 16,
      "outputs": [
        {
          "output_type": "stream",
          "name": "stdout",
          "text": [
            "Collecting textract\n",
            "  Downloading textract-1.6.5-py3-none-any.whl (23 kB)\n",
            "Collecting argcomplete~=1.10.0 (from textract)\n",
            "  Downloading argcomplete-1.10.3-py2.py3-none-any.whl (36 kB)\n",
            "Collecting beautifulsoup4~=4.8.0 (from textract)\n",
            "  Downloading beautifulsoup4-4.8.2-py3-none-any.whl (106 kB)\n",
            "\u001b[2K     \u001b[90m━━━━━━━━━━━━━━━━━━━━━━━━━━━━━━━━━━━━━━━━\u001b[0m \u001b[32m106.9/106.9 kB\u001b[0m \u001b[31m5.3 MB/s\u001b[0m eta \u001b[36m0:00:00\u001b[0m\n",
            "\u001b[?25hCollecting chardet==3.* (from textract)\n",
            "  Downloading chardet-3.0.4-py2.py3-none-any.whl (133 kB)\n",
            "\u001b[2K     \u001b[90m━━━━━━━━━━━━━━━━━━━━━━━━━━━━━━━━━━━━━━━━\u001b[0m \u001b[32m133.4/133.4 kB\u001b[0m \u001b[31m17.1 MB/s\u001b[0m eta \u001b[36m0:00:00\u001b[0m\n",
            "\u001b[?25hCollecting docx2txt~=0.8 (from textract)\n",
            "  Downloading docx2txt-0.8.tar.gz (2.8 kB)\n",
            "  Preparing metadata (setup.py) ... \u001b[?25l\u001b[?25hdone\n",
            "Collecting extract-msg<=0.29.* (from textract)\n",
            "  Downloading extract_msg-0.28.7-py2.py3-none-any.whl (69 kB)\n",
            "\u001b[2K     \u001b[90m━━━━━━━━━━━━━━━━━━━━━━━━━━━━━━━━━━━━━━━━\u001b[0m \u001b[32m69.0/69.0 kB\u001b[0m \u001b[31m10.3 MB/s\u001b[0m eta \u001b[36m0:00:00\u001b[0m\n",
            "\u001b[?25hCollecting pdfminer.six==20191110 (from textract)\n",
            "  Downloading pdfminer.six-20191110-py2.py3-none-any.whl (5.6 MB)\n",
            "\u001b[2K     \u001b[90m━━━━━━━━━━━━━━━━━━━━━━━━━━━━━━━━━━━━━━━━\u001b[0m \u001b[32m5.6/5.6 MB\u001b[0m \u001b[31m58.2 MB/s\u001b[0m eta \u001b[36m0:00:00\u001b[0m\n",
            "\u001b[?25hCollecting python-pptx~=0.6.18 (from textract)\n",
            "  Downloading python_pptx-0.6.23-py3-none-any.whl (471 kB)\n",
            "\u001b[2K     \u001b[90m━━━━━━━━━━━━━━━━━━━━━━━━━━━━━━━━━━━━━━━━\u001b[0m \u001b[32m471.6/471.6 kB\u001b[0m \u001b[31m42.0 MB/s\u001b[0m eta \u001b[36m0:00:00\u001b[0m\n",
            "\u001b[?25hCollecting six~=1.12.0 (from textract)\n",
            "  Downloading six-1.12.0-py2.py3-none-any.whl (10 kB)\n",
            "Collecting SpeechRecognition~=3.8.1 (from textract)\n",
            "  Downloading SpeechRecognition-3.8.1-py2.py3-none-any.whl (32.8 MB)\n",
            "\u001b[2K     \u001b[90m━━━━━━━━━━━━━━━━━━━━━━━━━━━━━━━━━━━━━━━━\u001b[0m \u001b[32m32.8/32.8 MB\u001b[0m \u001b[31m23.3 MB/s\u001b[0m eta \u001b[36m0:00:00\u001b[0m\n",
            "\u001b[?25hCollecting xlrd~=1.2.0 (from textract)\n",
            "  Downloading xlrd-1.2.0-py2.py3-none-any.whl (103 kB)\n",
            "\u001b[2K     \u001b[90m━━━━━━━━━━━━━━━━━━━━━━━━━━━━━━━━━━━━━━━━\u001b[0m \u001b[32m103.3/103.3 kB\u001b[0m \u001b[31m9.1 MB/s\u001b[0m eta \u001b[36m0:00:00\u001b[0m\n",
            "\u001b[?25hCollecting pycryptodome (from pdfminer.six==20191110->textract)\n",
            "  Downloading pycryptodome-3.19.0-cp35-abi3-manylinux_2_17_x86_64.manylinux2014_x86_64.whl (2.1 MB)\n",
            "\u001b[2K     \u001b[90m━━━━━━━━━━━━━━━━━━━━━━━━━━━━━━━━━━━━━━━━\u001b[0m \u001b[32m2.1/2.1 MB\u001b[0m \u001b[31m47.6 MB/s\u001b[0m eta \u001b[36m0:00:00\u001b[0m\n",
            "\u001b[?25hRequirement already satisfied: sortedcontainers in /usr/local/lib/python3.10/dist-packages (from pdfminer.six==20191110->textract) (2.4.0)\n",
            "Requirement already satisfied: soupsieve>=1.2 in /usr/local/lib/python3.10/dist-packages (from beautifulsoup4~=4.8.0->textract) (2.5)\n",
            "Collecting imapclient==2.1.0 (from extract-msg<=0.29.*->textract)\n",
            "  Downloading IMAPClient-2.1.0-py2.py3-none-any.whl (73 kB)\n",
            "\u001b[2K     \u001b[90m━━━━━━━━━━━━━━━━━━━━━━━━━━━━━━━━━━━━━━━━\u001b[0m \u001b[32m74.0/74.0 kB\u001b[0m \u001b[31m9.5 MB/s\u001b[0m eta \u001b[36m0:00:00\u001b[0m\n",
            "\u001b[?25hCollecting olefile>=0.46 (from extract-msg<=0.29.*->textract)\n",
            "  Downloading olefile-0.47-py2.py3-none-any.whl (114 kB)\n",
            "\u001b[2K     \u001b[90m━━━━━━━━━━━━━━━━━━━━━━━━━━━━━━━━━━━━━━━━\u001b[0m \u001b[32m114.6/114.6 kB\u001b[0m \u001b[31m13.6 MB/s\u001b[0m eta \u001b[36m0:00:00\u001b[0m\n",
            "\u001b[?25hRequirement already satisfied: tzlocal>=2.1 in /usr/local/lib/python3.10/dist-packages (from extract-msg<=0.29.*->textract) (5.2)\n",
            "Collecting compressed-rtf>=1.0.6 (from extract-msg<=0.29.*->textract)\n",
            "  Downloading compressed_rtf-1.0.6.tar.gz (5.8 kB)\n",
            "  Preparing metadata (setup.py) ... \u001b[?25l\u001b[?25hdone\n",
            "Collecting ebcdic>=1.1.1 (from extract-msg<=0.29.*->textract)\n",
            "  Downloading ebcdic-1.1.1-py2.py3-none-any.whl (128 kB)\n",
            "\u001b[2K     \u001b[90m━━━━━━━━━━━━━━━━━━━━━━━━━━━━━━━━━━━━━━━━\u001b[0m \u001b[32m128.5/128.5 kB\u001b[0m \u001b[31m13.9 MB/s\u001b[0m eta \u001b[36m0:00:00\u001b[0m\n",
            "\u001b[?25hRequirement already satisfied: lxml>=3.1.0 in /usr/local/lib/python3.10/dist-packages (from python-pptx~=0.6.18->textract) (4.9.3)\n",
            "Requirement already satisfied: Pillow>=3.3.2 in /usr/local/lib/python3.10/dist-packages (from python-pptx~=0.6.18->textract) (9.4.0)\n",
            "Collecting XlsxWriter>=0.5.7 (from python-pptx~=0.6.18->textract)\n",
            "  Downloading XlsxWriter-3.1.9-py3-none-any.whl (154 kB)\n",
            "\u001b[2K     \u001b[90m━━━━━━━━━━━━━━━━━━━━━━━━━━━━━━━━━━━━━━━━\u001b[0m \u001b[32m154.8/154.8 kB\u001b[0m \u001b[31m15.1 MB/s\u001b[0m eta \u001b[36m0:00:00\u001b[0m\n",
            "\u001b[?25hBuilding wheels for collected packages: docx2txt, compressed-rtf\n",
            "  Building wheel for docx2txt (setup.py) ... \u001b[?25l\u001b[?25hdone\n",
            "  Created wheel for docx2txt: filename=docx2txt-0.8-py3-none-any.whl size=3960 sha256=926c13f569715f5f71c71b0930fa811ed25ee66de8d295746edeb08bb56abeda\n",
            "  Stored in directory: /root/.cache/pip/wheels/22/58/cf/093d0a6c3ecfdfc5f6ddd5524043b88e59a9a199cb02352966\n",
            "  Building wheel for compressed-rtf (setup.py) ... \u001b[?25l\u001b[?25hdone\n",
            "  Created wheel for compressed-rtf: filename=compressed_rtf-1.0.6-py3-none-any.whl size=6184 sha256=6ff2797cc572ec9c2f37b321ba9b2420a8429ee764c9bd61fc7e4835ed758061\n",
            "  Stored in directory: /root/.cache/pip/wheels/15/3e/48/e7d833ecc516c36f8966d310b1a6386db091a718f1ff3bf85c\n",
            "Successfully built docx2txt compressed-rtf\n",
            "Installing collected packages: SpeechRecognition, ebcdic, docx2txt, compressed-rtf, chardet, argcomplete, XlsxWriter, xlrd, six, pycryptodome, olefile, beautifulsoup4, python-pptx, pdfminer.six, imapclient, extract-msg, textract\n",
            "  Attempting uninstall: chardet\n",
            "    Found existing installation: chardet 5.2.0\n",
            "    Uninstalling chardet-5.2.0:\n",
            "      Successfully uninstalled chardet-5.2.0\n",
            "  Attempting uninstall: xlrd\n",
            "    Found existing installation: xlrd 2.0.1\n",
            "    Uninstalling xlrd-2.0.1:\n",
            "      Successfully uninstalled xlrd-2.0.1\n",
            "  Attempting uninstall: six\n",
            "    Found existing installation: six 1.16.0\n",
            "    Uninstalling six-1.16.0:\n",
            "      Successfully uninstalled six-1.16.0\n",
            "  Attempting uninstall: beautifulsoup4\n",
            "    Found existing installation: beautifulsoup4 4.11.2\n",
            "    Uninstalling beautifulsoup4-4.11.2:\n",
            "      Successfully uninstalled beautifulsoup4-4.11.2\n",
            "\u001b[31mERROR: pip's dependency resolver does not currently take into account all the packages that are installed. This behaviour is the source of the following dependency conflicts.\n",
            "lida 0.0.10 requires fastapi, which is not installed.\n",
            "lida 0.0.10 requires kaleido, which is not installed.\n",
            "lida 0.0.10 requires python-multipart, which is not installed.\n",
            "lida 0.0.10 requires uvicorn, which is not installed.\n",
            "llmx 0.0.15a0 requires cohere, which is not installed.\n",
            "llmx 0.0.15a0 requires openai, which is not installed.\n",
            "llmx 0.0.15a0 requires tiktoken, which is not installed.\n",
            "pydrive2 1.6.3 requires six>=1.13.0, but you have six 1.12.0 which is incompatible.\n",
            "yfinance 0.2.33 requires beautifulsoup4>=4.11.1, but you have beautifulsoup4 4.8.2 which is incompatible.\u001b[0m\u001b[31m\n",
            "\u001b[0mSuccessfully installed SpeechRecognition-3.8.1 XlsxWriter-3.1.9 argcomplete-1.10.3 beautifulsoup4-4.8.2 chardet-3.0.4 compressed-rtf-1.0.6 docx2txt-0.8 ebcdic-1.1.1 extract-msg-0.28.7 imapclient-2.1.0 olefile-0.47 pdfminer.six-20191110 pycryptodome-3.19.0 python-pptx-0.6.23 six-1.12.0 textract-1.6.5 xlrd-1.2.0\n"
          ]
        },
        {
          "output_type": "display_data",
          "data": {
            "application/vnd.colab-display-data+json": {
              "pip_warning": {
                "packages": [
                  "chardet",
                  "six"
                ]
              }
            }
          },
          "metadata": {}
        }
      ]
    },
    {
      "cell_type": "code",
      "source": [
        "import textract\n",
        "from tensorflow.keras.preprocessing.text import Tokenizer\n",
        "import json\n",
        "from tensorflow.keras.preprocessing.text import tokenizer_from_json\n",
        "from tensorflow.keras.preprocessing.sequence import pad_sequences\n",
        "\n",
        "\n",
        "with open(\"/content/drive/MyDrive/Bangkit/Model/model/type3/tokenizerv3.json\", \"r\") as json_file:\n",
        "    loaded_tokenizer_json = json_file.read()\n",
        "\n",
        "tokenizer = tokenizer_from_json(loaded_tokenizer_json)\n",
        "\n",
        "file_path = \"/content/drive/MyDrive/BERKAS/Visi dan Misi Ketang.docx\"\n",
        "text = textract.process(file_path).decode('utf-8')\n",
        "words = text.split()[:50]\n",
        "\n",
        "# Tokenize and pad the input text\n",
        "sequences = tokenizer.texts_to_sequences([\" \".join(words)])\n",
        "padded_sequence = pad_sequences(sequences, maxlen=50)  # Assuming the same maxlen used during training\n",
        "\n",
        "# Make predictions\n",
        "predictions = model.predict(padded_sequence)\n",
        "\n",
        "# Assuming binary classification (sigmoid activation function in the output layer)\n",
        "# If it's multiclass, you might need to adjust this part\n",
        "threshold = 0.5\n",
        "binary_predictions = (predictions > threshold).astype(int)\n",
        "if binary_predictions == 1:\n",
        "  print('School or Work')\n",
        "else:\n",
        "  print('Personal')\n",
        "\n",
        "print(\"Raw Predictions:\", predictions)\n",
        "print(\"Binary Predictions:\", binary_predictions)"
      ],
      "metadata": {
        "colab": {
          "base_uri": "https://localhost:8080/"
        },
        "id": "pnx6rFlZcKoY",
        "outputId": "60038af1-e01b-4e85-8178-c1ba5e2146e2"
      },
      "execution_count": 18,
      "outputs": [
        {
          "output_type": "stream",
          "name": "stdout",
          "text": [
            "1/1 [==============================] - 0s 138ms/step\n",
            "School or Work\n",
            "Raw Predictions: [[0.91404986]]\n",
            "Binary Predictions: [[1]]\n"
          ]
        }
      ]
    }
  ]
}